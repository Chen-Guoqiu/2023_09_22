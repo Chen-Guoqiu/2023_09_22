{
 "cells": [
  {
   "cell_type": "markdown",
   "source": [
    "# 1. Brief Introduction of SCWT\n",
    "\n",
    "The **Stroop Color and Word Test (SCWT)**, created by John Ridley Stroop in the 1930s, is a psychological assessment tool used to measure an individual's selective attention capacity and skills, as well as their processing speed. In this test, participants are presented with **a list of words**, with each word displayed in **a color of ink different from the color that the word denotes**. For instance, the word **\"blue\"** might be printed **in red ink**.\n",
    "\n",
    "There are typically two conditions in this test: a **congruent** condition where the word and its color **match**, and an **incongruent** condition where the word and its color **do not match**. Participants are asked to **name the ink color**, **ignoring the written word**, which creates a **cognitive conflict**, as reading words is a much more automatic process than naming colors.\n",
    "\n",
    "The **Stroop effect**, which is the **delay in reaction times** in the **incongruent** condition compared to the congruent condition, demonstrates the nature of **automatic processing** and how it can interfere with other cognitive processes. It has been widely used in various psychological research to understand cognitive processing and even to diagnose various neurological and psychiatric conditions, as individuals with these conditions might exhibit different reaction times compared to healthy controls.\n",
    "\n",
    "Additionally, it is used to explore the neural mechanisms underlying cognitive control and has revealed insights into how the brain handles **conflicting information**. The test is leveraged in various settings including clinical, cognitive psychology, and neuroscience research settings, proving to be a cornerstone in cognitive psychology due to its simplicity and efficacy in probing cognitive control and processing speed. It remains a **widely used tool** nearly a century after its development, speaking to its foundational role in the psychology field.\n",
    "\n",
    "## 1.1 Experiment Design\n",
    "The experiment unfolded as follows: each trial began with a 0.5-second inter-trial interval (ITI), followed by the presentation of a word, and then a pause to await a response. Participants were instructed to disregard the word's meaning and instead concentrate on its color. After 24 practice trials with feedback, participants were required to complete 120 trials to conclude the experiment.\n",
    "\n",
    "<p style=\"text-align:center;\"> \n",
    "<img src=\"Pictures/Stroop_Procedure.png\" alt=\"Mental Rotation Procedure\" width=\"960\" />\n",
    "</p>\n",
    "\n",
    "## 1.2 Work Flow\n",
    "In the current Jupyter notebook, we began by merging the individual data files for each subject. We then implemented basic quality control by ensuring the correctness rate exceeded a specified threshold. Following this, we calculated the reaction times and error rates for each subject at various angles. Lastly, we visually represented this data through graphs and conducted statistical analysis to test our hypothesis. \n",
    "\n",
    "**Note**: Citation was attached in the last section of this notebook."
   ],
   "metadata": {
    "collapsed": false
   },
   "id": "97d4f8a9e3124f6c"
  },
  {
   "cell_type": "code",
   "execution_count": 1,
   "id": "initial_id",
   "metadata": {
    "collapsed": true,
    "ExecuteTime": {
     "end_time": "2023-09-22T14:50:12.906140600Z",
     "start_time": "2023-09-22T14:50:12.620937300Z"
    }
   },
   "outputs": [],
   "source": [
    "# Imports\n",
    "from pathlib import Path\n",
    "## Data, plot and statistical model\n",
    "import matplotlib\n",
    "import matplotlib.pyplot as plt\n",
    "import pandas as pd\n",
    "import seaborn as sns\n",
    "## Pingouin add function for pd.DataFrame\n",
    "## e.g. df.rm_anova performs repeated measurement anova for df\n",
    "import pingouin as pg\n",
    "## Suppress future warnings\n",
    "import warnings\n",
    "\n",
    "warnings.filterwarnings(action='ignore', category=FutureWarning)\n",
    "matplotlib.rcParams['font.family'] = 'Times New Roman'\n",
    "matplotlib.rcParams['font.size'] = '10'\n",
    "plt.style.use('seaborn-v0_8-pastel')"
   ]
  },
  {
   "cell_type": "markdown",
   "source": [
    "# 2. Data Preparation\n",
    "Within the \"Data\" folder, various subfolders house data collected from different platforms. This data was consolidated into a single dataframe object. Subsequently, we tallied the number of subjects contributing data from each platform."
   ],
   "metadata": {
    "collapsed": false
   },
   "id": "fde53e5661de040a"
  },
  {
   "cell_type": "code",
   "execution_count": 2,
   "outputs": [
    {
     "name": "stdout",
     "output_type": "stream",
     "text": [
      "The following illustrates the number of participants from each group:\n"
     ]
    },
    {
     "data": {
      "text/plain": "group\nNaodao      41\nOffline     37\nPavlovia    44\nName: raw count, dtype: int64"
     },
     "execution_count": 2,
     "metadata": {},
     "output_type": "execute_result"
    }
   ],
   "source": [
    "from_folder = Path('Data/Stroop')\n",
    "# Combine subject data to a dataframe and then add their group and id\n",
    "data = []\n",
    "for file in from_folder.rglob('*.csv'):\n",
    "    datum = pd.read_csv(file)\n",
    "    datum['sub_id'] = file.stem\n",
    "    datum['group'] = file.parent.stem.split('_')[0]\n",
    "    data.append(datum)\n",
    "data = pd.concat(data)\n",
    "\n",
    "# Create a {sub_id: group} mapping\n",
    "mapping = data.drop_duplicates('sub_id').set_index('sub_id')['group'].to_dict()\n",
    "# The number of each group\n",
    "raw_subject_n = data.drop_duplicates(subset=['sub_id']).groupby('group')['sub_id'].count()\n",
    "raw_subject_n.name = 'raw count'\n",
    "print('The following illustrates the number of participants from each group:')\n",
    "raw_subject_n"
   ],
   "metadata": {
    "collapsed": false,
    "ExecuteTime": {
     "end_time": "2023-09-22T14:50:13.258227200Z",
     "start_time": "2023-09-22T14:50:12.906140600Z"
    }
   },
   "id": "b7d1a1e9aa455c5f"
  },
  {
   "cell_type": "markdown",
   "source": [
    "## 2.1 Brief Explanation of Data Columns\n",
    "Each row represents a trial undertaken by a specific subject. The columns are defined as follows:\n",
    "- **trial_type**: *trial type*. either congruent or incongruent\n",
    "- **corr**: *correctness*. Indicates whether the response in the current trial was correct, denoted as 1, or incorrect, denoted as 0.\n",
    "- **rt**: *response time*. The time, in seconds, taken by the subject to respond.\n",
    "- **sub_id**: *subject ID*. The unique identifier for the subject participating in the trial.\n",
    "- **group**: Represents the platform where the subjects participated in the experiment. The possible values are:\n",
    "  - Naodao: Referring to the [Naodao Research Platform](https://www.naodao.com).\n",
    "  - Pavlovia: Referring to the [Pavlovia platform](https://pavlovia.org).\n",
    "  - Offline: Denoting subjects recruited at the offline lab at Beijing Normal University.\n"
   ],
   "metadata": {
    "collapsed": false
   },
   "id": "c6d3980d7ff3e4ad"
  },
  {
   "cell_type": "code",
   "execution_count": 3,
   "outputs": [
    {
     "data": {
      "text/plain": "         rt  corr   trial_type sub_id     group\n0    0.6991   1.0    congruent    001    Naodao\n1    0.8347   1.0  incongruent    001    Naodao\n2    0.6335   1.0    congruent    001    Naodao\n3    0.6169   1.0    congruent    001    Naodao\n4    0.7015   1.0    congruent    001    Naodao\n..      ...   ...          ...    ...       ...\n115  0.5676   1.0  incongruent    122  Pavlovia\n116  0.6503   1.0    congruent    122  Pavlovia\n117  1.1832   1.0  incongruent    122  Pavlovia\n118  0.6346   1.0    congruent    122  Pavlovia\n119  0.6444   1.0  incongruent    122  Pavlovia\n\n[14640 rows x 5 columns]",
      "text/html": "<div>\n<style scoped>\n    .dataframe tbody tr th:only-of-type {\n        vertical-align: middle;\n    }\n\n    .dataframe tbody tr th {\n        vertical-align: top;\n    }\n\n    .dataframe thead th {\n        text-align: right;\n    }\n</style>\n<table border=\"1\" class=\"dataframe\">\n  <thead>\n    <tr style=\"text-align: right;\">\n      <th></th>\n      <th>rt</th>\n      <th>corr</th>\n      <th>trial_type</th>\n      <th>sub_id</th>\n      <th>group</th>\n    </tr>\n  </thead>\n  <tbody>\n    <tr>\n      <th>0</th>\n      <td>0.6991</td>\n      <td>1.0</td>\n      <td>congruent</td>\n      <td>001</td>\n      <td>Naodao</td>\n    </tr>\n    <tr>\n      <th>1</th>\n      <td>0.8347</td>\n      <td>1.0</td>\n      <td>incongruent</td>\n      <td>001</td>\n      <td>Naodao</td>\n    </tr>\n    <tr>\n      <th>2</th>\n      <td>0.6335</td>\n      <td>1.0</td>\n      <td>congruent</td>\n      <td>001</td>\n      <td>Naodao</td>\n    </tr>\n    <tr>\n      <th>3</th>\n      <td>0.6169</td>\n      <td>1.0</td>\n      <td>congruent</td>\n      <td>001</td>\n      <td>Naodao</td>\n    </tr>\n    <tr>\n      <th>4</th>\n      <td>0.7015</td>\n      <td>1.0</td>\n      <td>congruent</td>\n      <td>001</td>\n      <td>Naodao</td>\n    </tr>\n    <tr>\n      <th>...</th>\n      <td>...</td>\n      <td>...</td>\n      <td>...</td>\n      <td>...</td>\n      <td>...</td>\n    </tr>\n    <tr>\n      <th>115</th>\n      <td>0.5676</td>\n      <td>1.0</td>\n      <td>incongruent</td>\n      <td>122</td>\n      <td>Pavlovia</td>\n    </tr>\n    <tr>\n      <th>116</th>\n      <td>0.6503</td>\n      <td>1.0</td>\n      <td>congruent</td>\n      <td>122</td>\n      <td>Pavlovia</td>\n    </tr>\n    <tr>\n      <th>117</th>\n      <td>1.1832</td>\n      <td>1.0</td>\n      <td>incongruent</td>\n      <td>122</td>\n      <td>Pavlovia</td>\n    </tr>\n    <tr>\n      <th>118</th>\n      <td>0.6346</td>\n      <td>1.0</td>\n      <td>congruent</td>\n      <td>122</td>\n      <td>Pavlovia</td>\n    </tr>\n    <tr>\n      <th>119</th>\n      <td>0.6444</td>\n      <td>1.0</td>\n      <td>incongruent</td>\n      <td>122</td>\n      <td>Pavlovia</td>\n    </tr>\n  </tbody>\n</table>\n<p>14640 rows × 5 columns</p>\n</div>"
     },
     "execution_count": 3,
     "metadata": {},
     "output_type": "execute_result"
    }
   ],
   "source": [
    "data"
   ],
   "metadata": {
    "collapsed": false,
    "ExecuteTime": {
     "end_time": "2023-09-22T14:50:13.301599300Z",
     "start_time": "2023-09-22T14:50:13.237225Z"
    }
   },
   "id": "4792215ab779303b"
  },
  {
   "cell_type": "markdown",
   "source": [
    "# 3. Quality Control\n",
    "We conducted basic quality control on the data, excluding subjects with a **correctness rate below 75%**. No subjects were removed from any of the groups."
   ],
   "metadata": {
    "collapsed": false
   },
   "id": "39460e58b310a133"
  },
  {
   "cell_type": "code",
   "execution_count": 4,
   "outputs": [
    {
     "name": "stdout",
     "output_type": "stream",
     "text": [
      "The following illustrates the number of participants from each group:\n"
     ]
    },
    {
     "data": {
      "text/plain": "          after clean  before clean\ngroup                              \nNaodao             41            41\nOffline            37            37\nPavlovia           44            44",
      "text/html": "<div>\n<style scoped>\n    .dataframe tbody tr th:only-of-type {\n        vertical-align: middle;\n    }\n\n    .dataframe tbody tr th {\n        vertical-align: top;\n    }\n\n    .dataframe thead th {\n        text-align: right;\n    }\n</style>\n<table border=\"1\" class=\"dataframe\">\n  <thead>\n    <tr style=\"text-align: right;\">\n      <th></th>\n      <th>after clean</th>\n      <th>before clean</th>\n    </tr>\n    <tr>\n      <th>group</th>\n      <th></th>\n      <th></th>\n    </tr>\n  </thead>\n  <tbody>\n    <tr>\n      <th>Naodao</th>\n      <td>41</td>\n      <td>41</td>\n    </tr>\n    <tr>\n      <th>Offline</th>\n      <td>37</td>\n      <td>37</td>\n    </tr>\n    <tr>\n      <th>Pavlovia</th>\n      <td>44</td>\n      <td>44</td>\n    </tr>\n  </tbody>\n</table>\n</div>"
     },
     "execution_count": 4,
     "metadata": {},
     "output_type": "execute_result"
    }
   ],
   "source": [
    "corr_rate = data.groupby(['sub_id'])['corr'].mean()\n",
    "corr_rate.name = 'corr_rate'\n",
    "data = (data\n",
    "        .merge(corr_rate.reset_index(), on='sub_id')\n",
    "        .query('corr_rate >= 0.80')\n",
    "        .drop(columns=['corr_rate']))\n",
    "clean_subject_n = data.drop_duplicates(subset=['sub_id']).groupby('group')['sub_id'].count()\n",
    "clean_subject_n = pd.DataFrame(clean_subject_n)\n",
    "clean_subject_n.columns = ['after clean']\n",
    "clean_subject_n['before clean'] = raw_subject_n\n",
    "print('The following illustrates the number of participants from each group:')\n",
    "clean_subject_n"
   ],
   "metadata": {
    "collapsed": false,
    "ExecuteTime": {
     "end_time": "2023-09-22T14:50:13.451634Z",
     "start_time": "2023-09-22T14:50:13.272224200Z"
    }
   },
   "id": "c5a55e8851d8a6a5"
  },
  {
   "cell_type": "markdown",
   "source": [
    "# 4. Measurement Calculation\n",
    "\n",
    "As previously mentioned, the SCWT concentrates on evaluating the **response time** in congruent and incongruent trials. In the forthcoming phase of our analysis, we will calculate the **mean reaction time** of subjects during various trial types."
   ],
   "metadata": {
    "collapsed": false
   },
   "id": "2f4d0fff5d605680"
  },
  {
   "cell_type": "code",
   "execution_count": 5,
   "outputs": [],
   "source": [
    "# Error rate\n",
    "plot_data = data.groupby(['sub_id', 'trial_type'])['rt'].mean()\n",
    "plot_data.name = 'MnRT'\n",
    "plot_data = plot_data.reset_index()\n",
    "plot_data['group'] = plot_data['sub_id'].map(mapping)\n",
    "plot_data.to_csv('Data/Stroop.csv', index=False)"
   ],
   "metadata": {
    "collapsed": false,
    "ExecuteTime": {
     "end_time": "2023-09-22T14:50:13.556664700Z",
     "start_time": "2023-09-22T14:50:13.301599300Z"
    }
   },
   "id": "ec1d743de1afa129"
  },
  {
   "cell_type": "markdown",
   "source": [
    "## 4.1 Brief Explanation of Data Columns\n",
    "In addition to the variables introduced in section 2.1, we have incorporated the following:\n",
    "- **MnRT**: *mean response time*. "
   ],
   "metadata": {
    "collapsed": false
   },
   "id": "379b5918a50a6084"
  },
  {
   "cell_type": "code",
   "execution_count": 6,
   "outputs": [
    {
     "data": {
      "text/plain": "    sub_id   trial_type      MnRT     group\n0      001    congruent  0.659853    Naodao\n1      001  incongruent  0.747927    Naodao\n2      002    congruent  0.632215    Naodao\n3      002  incongruent  0.769838    Naodao\n4      003    congruent  0.719822    Naodao\n..     ...          ...       ...       ...\n239    120  incongruent  1.035197  Pavlovia\n240    121    congruent  0.726378  Pavlovia\n241    121  incongruent  0.769725  Pavlovia\n242    122    congruent  0.622220  Pavlovia\n243    122  incongruent  0.689950  Pavlovia\n\n[244 rows x 4 columns]",
      "text/html": "<div>\n<style scoped>\n    .dataframe tbody tr th:only-of-type {\n        vertical-align: middle;\n    }\n\n    .dataframe tbody tr th {\n        vertical-align: top;\n    }\n\n    .dataframe thead th {\n        text-align: right;\n    }\n</style>\n<table border=\"1\" class=\"dataframe\">\n  <thead>\n    <tr style=\"text-align: right;\">\n      <th></th>\n      <th>sub_id</th>\n      <th>trial_type</th>\n      <th>MnRT</th>\n      <th>group</th>\n    </tr>\n  </thead>\n  <tbody>\n    <tr>\n      <th>0</th>\n      <td>001</td>\n      <td>congruent</td>\n      <td>0.659853</td>\n      <td>Naodao</td>\n    </tr>\n    <tr>\n      <th>1</th>\n      <td>001</td>\n      <td>incongruent</td>\n      <td>0.747927</td>\n      <td>Naodao</td>\n    </tr>\n    <tr>\n      <th>2</th>\n      <td>002</td>\n      <td>congruent</td>\n      <td>0.632215</td>\n      <td>Naodao</td>\n    </tr>\n    <tr>\n      <th>3</th>\n      <td>002</td>\n      <td>incongruent</td>\n      <td>0.769838</td>\n      <td>Naodao</td>\n    </tr>\n    <tr>\n      <th>4</th>\n      <td>003</td>\n      <td>congruent</td>\n      <td>0.719822</td>\n      <td>Naodao</td>\n    </tr>\n    <tr>\n      <th>...</th>\n      <td>...</td>\n      <td>...</td>\n      <td>...</td>\n      <td>...</td>\n    </tr>\n    <tr>\n      <th>239</th>\n      <td>120</td>\n      <td>incongruent</td>\n      <td>1.035197</td>\n      <td>Pavlovia</td>\n    </tr>\n    <tr>\n      <th>240</th>\n      <td>121</td>\n      <td>congruent</td>\n      <td>0.726378</td>\n      <td>Pavlovia</td>\n    </tr>\n    <tr>\n      <th>241</th>\n      <td>121</td>\n      <td>incongruent</td>\n      <td>0.769725</td>\n      <td>Pavlovia</td>\n    </tr>\n    <tr>\n      <th>242</th>\n      <td>122</td>\n      <td>congruent</td>\n      <td>0.622220</td>\n      <td>Pavlovia</td>\n    </tr>\n    <tr>\n      <th>243</th>\n      <td>122</td>\n      <td>incongruent</td>\n      <td>0.689950</td>\n      <td>Pavlovia</td>\n    </tr>\n  </tbody>\n</table>\n<p>244 rows × 4 columns</p>\n</div>"
     },
     "execution_count": 6,
     "metadata": {},
     "output_type": "execute_result"
    }
   ],
   "source": [
    "plot_data"
   ],
   "metadata": {
    "collapsed": false,
    "ExecuteTime": {
     "end_time": "2023-09-22T14:50:13.620670900Z",
     "start_time": "2023-09-22T14:50:13.330606300Z"
    }
   },
   "id": "fd57c72a1ecc88ad"
  },
  {
   "cell_type": "markdown",
   "source": [
    "# 4. Plots\n",
    "Visualizations can enhance the comprehension of the results. These images can be found in the \"Pictures\" folder."
   ],
   "metadata": {
    "collapsed": false
   },
   "id": "178a91b5d3aff08d"
  },
  {
   "cell_type": "code",
   "execution_count": 7,
   "outputs": [
    {
     "data": {
      "text/plain": "<Figure size 1000x500 with 1 Axes>",
      "image/png": "[encoded data removed]"
     },
     "metadata": {},
     "output_type": "display_data"
    }
   ],
   "source": [
    "fig, ax = plt.subplots(figsize=(10, 5))\n",
    "sns.barplot(data=plot_data, x='group', y='MnRT', hue='trial_type', capsize=0.05, ax=ax)\n",
    "ax.set_ylabel('Mean Response Time (second)', fontsize=14)\n",
    "ax.set_xlabel('Group', fontsize=14)\n",
    "ax.set_title('Stroop Color and Word Test')\n",
    "ax.title.set_size(16)\n",
    "ax.legend().set_title('Trial Type')\n",
    "plt.tight_layout()\n",
    "fig.savefig('Pictures/Stroop_Result.png')"
   ],
   "metadata": {
    "collapsed": false,
    "ExecuteTime": {
     "end_time": "2023-09-22T14:50:14.067917600Z",
     "start_time": "2023-09-22T14:50:13.365615300Z"
    }
   },
   "id": "579bfbfb3c120307"
  },
  {
   "cell_type": "markdown",
   "source": [
    "# 5. Statistical Analysis\n",
    "As mentioned earlier, the typical **Stroop effect** involves a **longer response time** when responding to **incongruent trials** compared to responding to congruent ones.\n",
    "\n",
    "## 5.1 Effect Replication\n",
    "Initially, we sought to confirm the recurrence of the classical effect within each group. We employed a repeated measures ANOVA (RM-ANOVA) to accomplish this. Interpretation of each column in the data set as detailed below:\n",
    "\n",
    "- **ddof1**: Degrees of freedom (numerator)\n",
    "- **ddof2**: Degrees of freedom (denominator)\n",
    "- **F**: F-value\n",
    "- **p-unc**: Uncorrected p-value\n",
    "- **np2**: Partial eta-square effect size\n",
    "- **ng2**: Generalized eta-square effect size\n",
    "\n",
    "These definitions are derived from the documentation of the Pingouin Python package, further details of which can be found at [pg.rm_anova](https://pingouin-stats.org/build/html/generated/pingouin.rm_anova.html#pingouin.rm_anova).\n",
    "\n",
    "We conducted paired t-tests within each of the three groups to assess the Stroop effect. In all three groups, we found a **significant Stroop effect** (*p*s < 0.001), with similar **effect sizes (Cohen's d) of approximately** [0.57, 0.69]. "
   ],
   "metadata": {
    "collapsed": false
   },
   "id": "ee1ee2f1991d8305"
  },
  {
   "cell_type": "code",
   "execution_count": 8,
   "outputs": [
    {
     "data": {
      "text/plain": "           group        T  dof  p-val  cohen-d       BF10\nT-test    Naodao  9.24743   40    0.0  0.68960  1.069e+09\nT-test   Offline  8.81998   36    0.0  0.56611  1.305e+08\nT-test  Pavlovia  9.45157   43    0.0  0.68957  3.815e+09",
      "text/html": "<div>\n<style scoped>\n    .dataframe tbody tr th:only-of-type {\n        vertical-align: middle;\n    }\n\n    .dataframe tbody tr th {\n        vertical-align: top;\n    }\n\n    .dataframe thead th {\n        text-align: right;\n    }\n</style>\n<table border=\"1\" class=\"dataframe\">\n  <thead>\n    <tr style=\"text-align: right;\">\n      <th></th>\n      <th>group</th>\n      <th>T</th>\n      <th>dof</th>\n      <th>p-val</th>\n      <th>cohen-d</th>\n      <th>BF10</th>\n    </tr>\n  </thead>\n  <tbody>\n    <tr>\n      <th>T-test</th>\n      <td>Naodao</td>\n      <td>9.24743</td>\n      <td>40</td>\n      <td>0.0</td>\n      <td>0.68960</td>\n      <td>1.069e+09</td>\n    </tr>\n    <tr>\n      <th>T-test</th>\n      <td>Offline</td>\n      <td>8.81998</td>\n      <td>36</td>\n      <td>0.0</td>\n      <td>0.56611</td>\n      <td>1.305e+08</td>\n    </tr>\n    <tr>\n      <th>T-test</th>\n      <td>Pavlovia</td>\n      <td>9.45157</td>\n      <td>43</td>\n      <td>0.0</td>\n      <td>0.68957</td>\n      <td>3.815e+09</td>\n    </tr>\n  </tbody>\n</table>\n</div>"
     },
     "execution_count": 8,
     "metadata": {},
     "output_type": "execute_result"
    }
   ],
   "source": [
    "result_list = []\n",
    "\n",
    "for group in plot_data['group'].unique():\n",
    "    this_data = plot_data.query(f'group == \"{group}\"')\n",
    "    # Perform ANOVA analysis and the select columns (for simplicity)\n",
    "    result = pg.ttest(\n",
    "        x=this_data.query('trial_type == \"incongruent\"')['MnRT'],\n",
    "        y=this_data.query('trial_type == \"congruent\"')['MnRT'],\n",
    "        paired=True, alternative='greater').round(5)\n",
    "    result = result[['T', 'dof', 'p-val', 'cohen-d', 'BF10']]\n",
    "    result.insert(0, 'group', group)\n",
    "    result_list.append(result)\n",
    "pd.concat(result_list)"
   ],
   "metadata": {
    "collapsed": false,
    "ExecuteTime": {
     "end_time": "2023-09-22T14:50:14.122928700Z",
     "start_time": "2023-09-22T14:50:13.955893900Z"
    }
   },
   "id": "dbbdfe07a49aa8a4"
  },
  {
   "cell_type": "markdown",
   "source": [
    "## 5.2 Comparison Between Groups\n",
    "Next, we aim to identify any significant disparities between the different groups by utilizing mixed ANOVA. In this approach, the **trial type** served as the **within-subject** independent variable, while the **group** designation functioned as the **between-subject** independent variable.\n",
    "\n",
    "The outcomes indicate that **neither a main effect** of group **nor an interaction** effect between group and angle is present (*p*s > .36). Even if such effects were discernible, they would be considered minor, registering **effect sizes** within the range of **0.0002 to 0.0008**, according to Cohen's 1998 classification of effect sizes (Cohen, 2013)."
   ],
   "metadata": {
    "collapsed": false
   },
   "id": "4154b40231b5cd9f"
  },
  {
   "cell_type": "code",
   "execution_count": 9,
   "outputs": [
    {
     "data": {
      "text/plain": "        Source  DF1  DF2          F    p-unc      ng2\n0        group    2  119    0.01264  0.98744  0.00020\n1   trial_type    1  119  251.14269  0.00000  0.09495\n2  Interaction    2  119    1.02435  0.36217  0.00086",
      "text/html": "<div>\n<style scoped>\n    .dataframe tbody tr th:only-of-type {\n        vertical-align: middle;\n    }\n\n    .dataframe tbody tr th {\n        vertical-align: top;\n    }\n\n    .dataframe thead th {\n        text-align: right;\n    }\n</style>\n<table border=\"1\" class=\"dataframe\">\n  <thead>\n    <tr style=\"text-align: right;\">\n      <th></th>\n      <th>Source</th>\n      <th>DF1</th>\n      <th>DF2</th>\n      <th>F</th>\n      <th>p-unc</th>\n      <th>ng2</th>\n    </tr>\n  </thead>\n  <tbody>\n    <tr>\n      <th>0</th>\n      <td>group</td>\n      <td>2</td>\n      <td>119</td>\n      <td>0.01264</td>\n      <td>0.98744</td>\n      <td>0.00020</td>\n    </tr>\n    <tr>\n      <th>1</th>\n      <td>trial_type</td>\n      <td>1</td>\n      <td>119</td>\n      <td>251.14269</td>\n      <td>0.00000</td>\n      <td>0.09495</td>\n    </tr>\n    <tr>\n      <th>2</th>\n      <td>Interaction</td>\n      <td>2</td>\n      <td>119</td>\n      <td>1.02435</td>\n      <td>0.36217</td>\n      <td>0.00086</td>\n    </tr>\n  </tbody>\n</table>\n</div>"
     },
     "execution_count": 9,
     "metadata": {},
     "output_type": "execute_result"
    }
   ],
   "source": [
    "result = plot_data.mixed_anova(\n",
    "    dv='MnRT', subject='sub_id', within='trial_type', between='group', effsize='ng2'\n",
    ").round(5)\n",
    "result[['Source', 'DF1', 'DF2', 'F', 'p-unc', 'ng2']]"
   ],
   "metadata": {
    "collapsed": false,
    "ExecuteTime": {
     "end_time": "2023-09-22T14:50:14.160938500Z",
     "start_time": "2023-09-22T14:50:14.016907700Z"
    }
   },
   "id": "1c51fd124ee31a2e"
  },
  {
   "cell_type": "markdown",
   "source": [
    "# References \n",
    "- Cohen, J. (2013). Statistical power analysis for the behavioral sciences. Academic press.\n",
    "- Hedge, C., Powell, G., & Sumner, P. (2018). The reliability paradox: Why robust cognitive tasks do not produce reliable individual differences. Behavior research methods, 50, 1166-1186."
   ],
   "metadata": {
    "collapsed": false
   },
   "id": "5975d1661cf5be75"
  }
 ],
 "metadata": {
  "kernelspec": {
   "name": "siq",
   "language": "python",
   "display_name": "SiQ"
  },
  "language_info": {
   "codemirror_mode": {
    "name": "ipython",
    "version": 2
   },
   "file_extension": ".py",
   "mimetype": "text/x-python",
   "name": "python",
   "nbconvert_exporter": "python",
   "pygments_lexer": "ipython2",
   "version": "2.7.6"
  }
 },
 "nbformat": 4,
 "nbformat_minor": 5
}
